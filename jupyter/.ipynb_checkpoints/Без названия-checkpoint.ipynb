{
 "cells": [
  {
   "cell_type": "markdown",
   "id": "c9d4f601-7762-49ca-9a52-fbc20dbd4329",
   "metadata": {
    "tags": []
   },
   "source": [
    "# Семинар 11. Домашнее задание:"
   ]
  },
  {
   "cell_type": "markdown",
   "id": "1f87ed3f-b9cd-4822-85ff-5102d819d9e3",
   "metadata": {},
   "source": [
    "## f(x) = -8x^2+3x+17\n"
   ]
  },
  {
   "cell_type": "markdown",
   "id": "ce0553e9-3d18-477f-a131-3427a850c52e",
   "metadata": {},
   "source": [
    "## 1 определить корни\n"
   ]
  },
  {
   "cell_type": "code",
   "execution_count": 16,
   "id": "76c48d4c-e1a2-44fd-9b5b-e03c20ca6de5",
   "metadata": {
    "scrolled": true,
    "tags": []
   },
   "outputs": [
    {
     "name": "stdout",
     "output_type": "stream",
     "text": [
      "-1.2822470020381058 1.6572470020381058\n"
     ]
    }
   ],
   "source": [
    "from sympy import *\n",
    "x = Symbol('x')\n",
    "f = -8*x**2+3*x+17\n",
    "y = solve(f)\n",
    "x1 = float(y[0])\n",
    "x2 = float(y[1])\n",
    "\n",
    "print(x1,x2)\n"
   ]
  },
  {
   "cell_type": "markdown",
   "id": "003775d8-74b6-4902-91fe-05deb4f7a111",
   "metadata": {},
   "source": [
    "## 2 Найти интервалы, на которых функция возрастает"
   ]
  },
  {
   "cell_type": "code",
   "execution_count": 20,
   "id": "893b5edc-f0d4-4b89-be02-a05fc02b6e5b",
   "metadata": {},
   "outputs": [
    {
     "name": "stdout",
     "output_type": "stream",
     "text": [
      "(x < 19/16 + sqrt(809)/16) & (19/16 - sqrt(809)/16 < x)\n"
     ]
    }
   ],
   "source": [
    "fup =diff(f)\n",
    "print(solve(fup<f))"
   ]
  },
  {
   "cell_type": "markdown",
   "id": "eba36cf6-d81d-49e1-88d1-bc7b2b5d8ed4",
   "metadata": {},
   "source": [
    "## 3 Найти интервалы, на которых функция убывает"
   ]
  },
  {
   "cell_type": "code",
   "execution_count": 23,
   "id": "ac903ebd-643a-45f5-a191-7c65a34796cc",
   "metadata": {},
   "outputs": [
    {
     "name": "stdout",
     "output_type": "stream",
     "text": [
      "((-oo < x) & (x < 19/16 - sqrt(809)/16)) | ((x < oo) & (19/16 + sqrt(809)/16 < x))\n"
     ]
    }
   ],
   "source": [
    "print(solve(fup>f))"
   ]
  },
  {
   "cell_type": "markdown",
   "id": "95e4c6a9-6a97-484a-9238-d848b803d993",
   "metadata": {},
   "source": [
    "## 4 Построить график"
   ]
  },
  {
   "cell_type": "code",
   "execution_count": 49,
   "id": "37cf9c16",
   "metadata": {},
   "outputs": [
    {
     "name": "stdout",
     "output_type": "stream",
     "text": [
      "[-813, -658, -519, -396, -289, -198, -123, -64, -21, 6, 17, 12, -9, -46, -99, -168, -253, -354, -471, -604, -753]\n"
     ]
    },
    {
     "data": {
      "text/plain": [
       "[<matplotlib.lines.Line2D at 0x7f59cdeef0a0>]"
      ]
     },
     "execution_count": 49,
     "metadata": {},
     "output_type": "execute_result"
    },
    {
     "data": {
      "image/png": "[encoded data removed]",
      "text/plain": [
       "<Figure size 432x288 with 1 Axes>"
      ]
     },
     "metadata": {
      "needs_background": "light"
     },
     "output_type": "display_data"
    }
   ],
   "source": [
    "import matplotlib.pyplot as plt\n",
    "list_y = []\n",
    "for i in range(-10,11):\n",
    "    x=i\n",
    "    y = -8*x**2+3*x+17\n",
    "    list_y.append(y)\n",
    "print(list_y)\n",
    "listx = [0,0,0,0,0,0,0,0,0,0,0,0,0,0,0,0,0,0,0,0,0]\n",
    "listy = []\n",
    "i =-800\n",
    "d =0\n",
    "while i<800:\n",
    "    i+=1\n",
    "    listy.append(d)\n",
    "    \n",
    "plt.plot( listy,range(-800,800))\n",
    "plt.plot(range(-10,11),listx)\n",
    "\n",
    "plt.plot(range(-10,11),list_y)"
   ]
  },
  {
   "cell_type": "markdown",
   "id": "f16f3418",
   "metadata": {},
   "source": [
    "## 5 Вычислить вершину\n"
   ]
  },
  {
   "cell_type": "code",
   "execution_count": 34,
   "id": "2f5875e5",
   "metadata": {},
   "outputs": [
    {
     "name": "stdout",
     "output_type": "stream",
     "text": [
      "0.1875 17.28125\n"
     ]
    }
   ],
   "source": [
    "zoo = solve(fup)\n",
    "top = zoo[0]\n",
    "x = top\n",
    "f = -8*x**2+3*x+17\n",
    "print(float(top),float(f))"
   ]
  },
  {
   "cell_type": "markdown",
   "id": "6a53f36a-2d48-4324-8983-b3e7c8951df6",
   "metadata": {},
   "source": [
    "## 6 Определить промежутки, на котором f > 0"
   ]
  },
  {
   "cell_type": "code",
   "execution_count": 10,
   "id": "1fda9f99-2a54-4ed1-99c6-a295dc77ca30",
   "metadata": {},
   "outputs": [
    {
     "name": "stdout",
     "output_type": "stream",
     "text": [
      "(x < 3/16 + sqrt(553)/16) & (3/16 - sqrt(553)/16 < x)\n"
     ]
    }
   ],
   "source": [
    "print(solve(0<f))"
   ]
  },
  {
   "cell_type": "markdown",
   "id": "da223614-919d-486a-b43b-e44c67be12ce",
   "metadata": {},
   "source": [
    "## 7 Определить промежутки, на котором f < 0"
   ]
  },
  {
   "cell_type": "code",
   "execution_count": 11,
   "id": "f76bd979",
   "metadata": {},
   "outputs": [
    {
     "name": "stdout",
     "output_type": "stream",
     "text": [
      "((-oo < x) & (x < 3/16 - sqrt(553)/16)) | ((x < oo) & (3/16 + sqrt(553)/16 < x))\n"
     ]
    }
   ],
   "source": [
    "print(solve(0>f))"
   ]
  },
  {
   "cell_type": "code",
   "execution_count": null,
   "id": "c6590b5d",
   "metadata": {},
   "outputs": [],
   "source": []
  }
 ],
 "metadata": {
  "kernelspec": {
   "display_name": "Python 3 (ipykernel)",
   "language": "python",
   "name": "python3"
  },
  "language_info": {
   "codemirror_mode": {
    "name": "ipython",
    "version": 3
   },
   "file_extension": ".py",
   "mimetype": "text/x-python",
   "name": "python",
   "nbconvert_exporter": "python",
   "pygments_lexer": "ipython3",
   "version": "3.9.7"
  }
 },
 "nbformat": 4,
 "nbformat_minor": 5
}
