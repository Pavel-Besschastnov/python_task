{
 "cells": [
  {
   "cell_type": "markdown",
   "id": "c9d4f601-7762-49ca-9a52-fbc20dbd4329",
   "metadata": {
    "tags": []
   },
   "source": [
    "# Семинар 11. Домашнее задание:"
   ]
  },
  {
   "cell_type": "markdown",
   "id": "1f87ed3f-b9cd-4822-85ff-5102d819d9e3",
   "metadata": {},
   "source": [
    "## f(x) = -12x^4*sin(cos(x)) - 18x^3+5x^2 + 10x - 30\n"
   ]
  },
  {
   "cell_type": "code",
   "execution_count": null,
   "id": "bcaba865-52f5-4260-bebd-7cad93ac3a3e",
   "metadata": {},
   "outputs": [],
   "source": [
    "from sympy import *\n",
    "x = Symbol('x')\n",
    "f = -12*x**4*sin(cos(x)) - 18*x**3+5*x**2 + 10*x - 30\n",
    "print(f)\n",
    "zoo = solve(f,x)\n",
    "print(zoo)"
   ]
  },
  {
   "cell_type": "markdown",
   "id": "ce0553e9-3d18-477f-a131-3427a850c52e",
   "metadata": {},
   "source": [
    "1 определить корни\n"
   ]
  },
  {
   "cell_type": "code",
   "execution_count": null,
   "id": "76c48d4c-e1a2-44fd-9b5b-e03c20ca6de5",
   "metadata": {
    "scrolled": true,
    "tags": []
   },
   "outputs": [],
   "source": [
    "c = sympify(-33 - 12*sin(cos(1)))\n",
    "c"
   ]
  },
  {
   "cell_type": "markdown",
   "id": "003775d8-74b6-4902-91fe-05deb4f7a111",
   "metadata": {},
   "source": [
    "2 Найти интервалы, на которых функция возрастает"
   ]
  },
  {
   "cell_type": "code",
   "execution_count": null,
   "id": "893b5edc-f0d4-4b89-be02-a05fc02b6e5b",
   "metadata": {},
   "outputs": [],
   "source": []
  },
  {
   "cell_type": "markdown",
   "id": "eba36cf6-d81d-49e1-88d1-bc7b2b5d8ed4",
   "metadata": {},
   "source": [
    "3 Найти интервалы, на которых функция убывает"
   ]
  },
  {
   "cell_type": "code",
   "execution_count": null,
   "id": "ac903ebd-643a-45f5-a191-7c65a34796cc",
   "metadata": {},
   "outputs": [],
   "source": []
  },
  {
   "cell_type": "markdown",
   "id": "95e4c6a9-6a97-484a-9238-d848b803d993",
   "metadata": {},
   "source": [
    "4 Построить график"
   ]
  },
  {
   "cell_type": "code",
   "execution_count": null,
   "id": "5c48daf6-e852-41cf-9b0e-bbce99622b13",
   "metadata": {},
   "outputs": [],
   "source": [
    "from matplotlib import plot\n"
   ]
  },
  {
   "cell_type": "markdown",
   "id": "6a53f36a-2d48-4324-8983-b3e7c8951df6",
   "metadata": {},
   "source": [
    "5 Определить промежутки, на котором f > 0"
   ]
  },
  {
   "cell_type": "code",
   "execution_count": null,
   "id": "1fda9f99-2a54-4ed1-99c6-a295dc77ca30",
   "metadata": {},
   "outputs": [],
   "source": []
  },
  {
   "cell_type": "markdown",
   "id": "da223614-919d-486a-b43b-e44c67be12ce",
   "metadata": {},
   "source": [
    "6 Определить промежутки, на котором f < 0"
   ]
  }
 ],
 "metadata": {
  "kernelspec": {
   "display_name": "Python 3 (ipykernel)",
   "language": "python",
   "name": "python3"
  },
  "language_info": {
   "codemirror_mode": {
    "name": "ipython",
    "version": 3
   },
   "file_extension": ".py",
   "mimetype": "text/x-python",
   "name": "python",
   "nbconvert_exporter": "python",
   "pygments_lexer": "ipython3",
   "version": "3.9.7"
  }
 },
 "nbformat": 4,
 "nbformat_minor": 5
}
